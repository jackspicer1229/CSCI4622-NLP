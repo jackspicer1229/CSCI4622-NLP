{
 "cells": [
  {
   "cell_type": "code",
   "execution_count": 1,
   "metadata": {},
   "outputs": [],
   "source": [
    "import pandas as pd\n",
    "import numpy as np\n",
    "from string import punctuation\n",
    "from nltk.corpus import stopwords\n",
    "\n",
    "music_review_dataframe = pd.read_json(\"Pet_Supplies_5.json\", lines=True)\n",
    "music_review_dataframe = music_review_dataframe.astype({\"reviewText\": 'str'}) \n",
    "\n",
    "music_review_dataframe[\"clean_reviewText\"] = music_review_dataframe['reviewText'].str.replace('[^\\w\\s]','')\n",
    "\n",
    "#stopwords_list = stopwords.words('english')\n",
    "#music_review_dataframe[\"clean_reviewText\"] = music_review_dataframe['clean_reviewText'].str.replace(stopwords_list,'')"
   ]
  },
  {
   "cell_type": "code",
   "execution_count": 2,
   "metadata": {},
   "outputs": [],
   "source": [
    "from collections import Counter\n",
    "\n",
    "all_text2 = ' '.join(music_review_dataframe[\"clean_reviewText\"])\n",
    "# create a list of words\n",
    "words = all_text2.split()\n",
    "# Count all the words using Counter Method\n",
    "count_words = Counter(words)\n",
    "\n",
    "total_words = len(words)\n",
    "sorted_words = count_words.most_common(total_words)\n"
   ]
  },
  {
   "cell_type": "code",
   "execution_count": 3,
   "metadata": {},
   "outputs": [],
   "source": [
    "vocab_to_int = {w:i+1 for i, (w,c) in enumerate(sorted_words)}\n",
    "reviews_int = []\n",
    "for review in music_review_dataframe[\"clean_reviewText\"]:\n",
    "    r = [vocab_to_int[w] for w in review.split()]\n",
    "    reviews_int.append(r)\n",
    "#reviews_int = pad_features(reviews_int, 100)\n",
    "music_review_dataframe['reviews_int']=reviews_int"
   ]
  },
  {
   "cell_type": "code",
   "execution_count": 4,
   "metadata": {},
   "outputs": [],
   "source": [
    "labelList=[]\n",
    "for rating in music_review_dataframe[\"overall\"]:\n",
    "    if rating>=4:\n",
    "        labelList.append(1)\n",
    "    else:\n",
    "        labelList.append(0)\n",
    "music_review_dataframe['Label']=labelList"
   ]
  },
  {
   "cell_type": "code",
   "execution_count": 5,
   "metadata": {},
   "outputs": [],
   "source": [
    "split_frac = 0.8\n",
    "lenR = len(music_review_dataframe['reviews_int'])\n",
    "train_x = music_review_dataframe['reviews_int'][0:int(split_frac*lenR)]\n",
    "train_y = music_review_dataframe['Label'][0:int(split_frac*lenR)]\n",
    "test_x = music_review_dataframe['reviews_int'][int(split_frac*lenR):]\n",
    "test_y = music_review_dataframe['Label'][int(split_frac*lenR):]"
   ]
  },
  {
   "cell_type": "code",
   "execution_count": 6,
   "metadata": {},
   "outputs": [],
   "source": [
    "#training manual\n",
    "def train1(review, label, rate, total):\n",
    "    if label == 1:\n",
    "        for word in review:\n",
    "            total[word-1] = total[word-1]+(rate)\n",
    "    else:\n",
    "        for word in review:\n",
    "            total[word-1] = total[word-1]-1\n",
    "    return total"
   ]
  },
  {
   "cell_type": "code",
   "execution_count": 7,
   "metadata": {},
   "outputs": [],
   "source": [
    "#training all\n",
    "numReview = 0\n",
    "negative = 0\n",
    "positive = 0\n",
    "for label in train_y:\n",
    "    if label == 0:\n",
    "        negative = negative+1\n",
    "    else:\n",
    "        positive = positive+1\n",
    "rate = negative/(positive-negative)\n",
    "#rate = .3\n",
    "wordScore = np.zeros(len(sorted_words))\n",
    "for review in train_x:\n",
    "    wordScore = train1(review, train_y[numReview], rate, wordScore)\n",
    "    numReview=numReview+1\n",
    "numWord=0\n",
    "wordPercent=[]\n",
    "for word in wordScore:\n",
    "    #if numWord>15:\n",
    "    wordPercent.append(word/sorted_words[numWord][1])\n",
    "    #else:\n",
    "     #   wordPercent.append(0)\n",
    "    numWord=numWord+1"
   ]
  },
  {
   "cell_type": "code",
   "execution_count": 8,
   "metadata": {},
   "outputs": [],
   "source": [
    "#testing\n",
    "def predict(review, wordPercent):\n",
    "    reviewTotal = 0\n",
    "    for word in review:\n",
    "        val = wordPercent[word-1]\n",
    "        reviewTotal = reviewTotal+val\n",
    "    if reviewTotal>0:\n",
    "        return 1\n",
    "    else:\n",
    "        return 0"
   ]
  },
  {
   "cell_type": "code",
   "execution_count": 9,
   "metadata": {},
   "outputs": [],
   "source": [
    "trueP = 0\n",
    "falseP = 0\n",
    "trueN = 0\n",
    "falseN = 0\n",
    "yVal = int(split_frac*lenR)\n",
    "for review in test_x:\n",
    "    prediction = predict(review, wordPercent)\n",
    "    if test_y[yVal] ==  prediction:\n",
    "        if prediction == 1:    \n",
    "            trueP = trueP + 1\n",
    "        elif prediction == 0:\n",
    "            trueN = trueN + 1\n",
    "    elif test_y[yVal] < prediction:\n",
    "        #fPReview = review\n",
    "        falseP = falseP + 1\n",
    "    elif test_y[yVal] > prediction:\n",
    "        #fNReview = review\n",
    "        falseN = falseN + 1\n",
    "    yVal = yVal + 1\n",
    "        "
   ]
  },
  {
   "cell_type": "code",
   "execution_count": 11,
   "metadata": {},
   "outputs": [
    {
     "name": "stdout",
     "output_type": "stream",
     "text": [
      "314907\n",
      "38557\n",
      "49878\n",
      "16323\n"
     ]
    }
   ],
   "source": [
    "#Used for bug fixing\n",
    "\n",
    "#print(train_x[0])\n",
    "#print(sorted_words[0:100])\n",
    "#print(test_x)\n",
    "print(trueP)\n",
    "print(falseP)\n",
    "print(trueN)\n",
    "print(falseN)"
   ]
  },
  {
   "cell_type": "code",
   "execution_count": 12,
   "metadata": {},
   "outputs": [
    {
     "name": "stdout",
     "output_type": "stream",
     "text": [
      "Precision for positives:  0.8909167553131295\n",
      "Recall for positives:  0.9507200434743229\n",
      "Confusion Martix:  [[314907, 16323], [38557, 49878]]\n",
      "Precision for negatives:  0.7534327276023021\n",
      "Recall for negatives:  0.5640074631084978\n"
     ]
    }
   ],
   "source": [
    "#metrics\n",
    "precision = trueP/(trueP+falseP)\n",
    "recall = trueP/(trueP+falseN)\n",
    "confusion_matrix = [[trueP, falseN],[falseP, trueN]]\n",
    "print('Precision for positives: ',precision)\n",
    "print('Recall for positives: ',recall)\n",
    "print('Confusion Martix: ',confusion_matrix)\n",
    "precisionN = trueN/(trueN+falseN)\n",
    "recallN = trueN/(trueN+falseP)\n",
    "print('Precision for negatives: ',precisionN)\n",
    "print('Recall for negatives: ', recallN)"
   ]
  },
  {
   "cell_type": "code",
   "execution_count": 61,
   "metadata": {},
   "outputs": [
    {
     "name": "stdout",
     "output_type": "stream",
     "text": [
      "19\n",
      "1\n",
      "the\n",
      "was\n",
      "413235\n",
      "36236\n",
      "14643\n",
      "Whisker\n",
      "Hepper\n",
      "0.7892723958395387\n",
      "0.332820673615025\n",
      "[0, 0, 0, 0, 0, 0, 0, 0, 0, 0, 0, 0, 0, 0, 0, 0, -0.04084972108403681, 0.025779215985135728, -0.068160884997827, -0.13463992420533671, 0.05090445863180386, 0.04960911148740769, 0.02591951882836101, 0.06092481699913582, -0.012684503782080086, 0.031058914110574834, 0.08078224938675191, 0.028554866580607317, 0.003315756668616973, -0.03200976488829117, 0.06180109693743063, 0.0945161114314622, 0.018033459510599273, 0.08151927388557305, 0.0004841892104523119, 0.019252894302332964, 0.01389883982642997, 0.03730522447314855, 0.06484289285580695, 0.08207736032394772, 0.0372132251950223, -0.00017405793999021412, 0.07776646125052195, 0.15626710244164127, 0.0732092612892134, 0.19755376122747526, 0.00705976395754167, -0.018982789512560088, -0.03134300548363942, 0.011308399067516649, -0.07688779830767183, 0.08275027320714998, 0.049931331267132346, 0.01285335596780791, 0.014137206778377149, 0.00713795926966813, 0.04781662956926283, 0.09668590159791769, 0.0767148045861623, 0.006644176899842894, 0.006167349363743559, 0.046322313271073556, 0.0631798154145901, 0.03360542831604007, -0.03710416806209823, 0.21057119676514527, 0.08392996790906328, 0.017068672732271757, 0.10593813231635939, 0.08535664820426697, 0.09096277536609533, 0.022913665809156054, 0.03610352501069894, 0.033114850993264444, 0.029359075648139676, 0.014833330852233607, -0.01915970712924451, -0.028298284982312655, 0.02763621378238525, 0.08361103977426347, 5.485165185654321e-05, 0.004156638014159799, -0.028114662638782473, -0.04228636003892512, 0.003003800260076525, 0.07615583992010198, 0.008227768671038527, 0.023995167202327538, 0.06901462480101543, -0.07265960493514816, 0.10753988355085918, 0.028961649864086093, 0.025099138521026517, 0.047272690774298146, 0.004349585404062211, 0.06373908015791628, 0.02620023490085376, 0.038369417616474916, 0.027221635785734354, 0.042634260564981076]\n"
     ]
    }
   ],
   "source": [
    "#Used for bug fixing, no need to run\n",
    "\n",
    "#print(wordScore)\n",
    "print(np.argmin(wordScore))\n",
    "print(np.argmax(wordScore))\n",
    "print(sorted_words[np.argmax(wordScore)-1][0])\n",
    "print(sorted_words[np.argmin(wordScore)-1][0])\n",
    "print(len(wordScore))\n",
    "#print(wordPercent)\n",
    "print(np.argmin(wordPercent))\n",
    "print(np.argmax(wordPercent))\n",
    "print(sorted_words[np.argmax(wordPercent)-1][0])\n",
    "print(sorted_words[np.argmin(wordPercent)-1][0])\n",
    "print((trueP+falseN)/len(test_y))\n",
    "print(rate)\n",
    "print(wordPercent[0:100])"
   ]
  },
  {
   "cell_type": "code",
   "execution_count": 66,
   "metadata": {},
   "outputs": [
    {
     "name": "stdout",
     "output_type": "stream",
     "text": [
      "[('Latches', 46), ('are', 537700), ('too', 201784), ('heavy', 31018), ('for', 1424742), ('small', 181042), ('dogs', 396289), ('but', 762365), ('a', 2382463), ('solid', 13127), ('product', 295145)]\n",
      "[('Love', 48424), ('it', 2355523), ('but', 762365), ('the', 3913696), ('1', 44037), ('star', 16938), ('comes', 38809), ('from', 264633), ('when', 297740), ('you', 387282), ('pull', 29042), ('it', 2355523), ('firm', 3630), ('there', 118358), ('is', 1479078), ('this', 1210305), ('long', 111359), ('flopping', 200), ('cord', 6480), ('hanging', 6274), ('off', 164580), ('your', 178567), ('dogs', 396289), ('neck', 26950), ('Which', 3442), ('means', 11581), ('it', 2355523), ('last', 86297), ('a', 2382463), ('few', 97796), ('hours', 31451), ('before', 80974), ('the', 3913696), ('straps', 9708), ('are', 537700), ('chewed', 21088), ('up', 354453), ('So', 93334), ('great', 317505), ('idea', 21906), ('but', 762365), ('needs', 29659), ('better', 120387), ('execution', 365), ('to', 2609135), ('avoid', 7055), ('that', 832137)]\n",
      "0\n"
     ]
    }
   ],
   "source": [
    "#Used for bug fixing, no need to run\n",
    "\n",
    "print(toWords(fPReview, sorted_words))\n",
    "print(toWords(fNReview, sorted_words))\n",
    "#print(wordPercent[126218])\n",
    "print(predict(fNReview,wordPercent))"
   ]
  },
  {
   "cell_type": "code",
   "execution_count": 17,
   "metadata": {},
   "outputs": [],
   "source": [
    "def toWords(review, sorted_words):\n",
    "    inWords = []\n",
    "    for word in review:\n",
    "        inWords.append(sorted_words[word-1])\n",
    "    return inWords"
   ]
  }
 ],
 "metadata": {
  "kernelspec": {
   "display_name": "Python 3",
   "language": "python",
   "name": "python3"
  },
  "language_info": {
   "codemirror_mode": {
    "name": "ipython",
    "version": 3
   },
   "file_extension": ".py",
   "mimetype": "text/x-python",
   "name": "python",
   "nbconvert_exporter": "python",
   "pygments_lexer": "ipython3",
   "version": "3.7.1"
  }
 },
 "nbformat": 4,
 "nbformat_minor": 2
}
